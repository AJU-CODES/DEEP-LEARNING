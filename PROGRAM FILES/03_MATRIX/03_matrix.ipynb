{
 "cells": [
  {
   "cell_type": "code",
   "execution_count": 1,
   "id": "273a3c9a-7687-4f81-8602-160d9b3da0dc",
   "metadata": {},
   "outputs": [],
   "source": [
    "import numpy as np"
   ]
  },
  {
   "cell_type": "markdown",
   "id": "c7ea8123-3b81-48e1-be9e-371bacd26fd6",
   "metadata": {},
   "source": [
    "## TO CALCULATE PROFIT / LOSS"
   ]
  },
  {
   "cell_type": "code",
   "execution_count": 4,
   "id": "c08a0770-ba38-4992-9455-d5c8f46ca596",
   "metadata": {},
   "outputs": [],
   "source": [
    "revenue = np.array([[180,200,220],[24,36,40],[12,18,20]])\n",
    "expenses = np.array([[80,90,100],[10,16,20],[8,10,10]])"
   ]
  },
  {
   "cell_type": "code",
   "execution_count": 6,
   "id": "9dd034b7-b59d-4ee7-ab58-3db6ae969abf",
   "metadata": {},
   "outputs": [],
   "source": [
    "profit = revenue - expenses"
   ]
  },
  {
   "cell_type": "code",
   "execution_count": 8,
   "id": "dc4dbc2e-0507-428d-bfbe-3c5879e0f74a",
   "metadata": {},
   "outputs": [
    {
     "data": {
      "text/plain": [
       "array([[100, 110, 120],\n",
       "       [ 14,  20,  20],\n",
       "       [  4,   8,  10]])"
      ]
     },
     "execution_count": 8,
     "metadata": {},
     "output_type": "execute_result"
    }
   ],
   "source": [
    "profit"
   ]
  },
  {
   "cell_type": "markdown",
   "id": "9070aafb-e07c-47fe-9d3d-eefa62ee8338",
   "metadata": {},
   "source": [
    "## TO CALCULATE TOTAL SALES FROM UNITS AND PRICE PER UNITS"
   ]
  },
  {
   "cell_type": "code",
   "execution_count": 11,
   "id": "a0676f10-5627-4ffc-a9b7-e45f4f568209",
   "metadata": {},
   "outputs": [],
   "source": [
    "price_per_unit = np.array([1000,400,1200])\n",
    "units = np.array([[30,40,50],[5,10,15],[2,5,7]])"
   ]
  },
  {
   "cell_type": "code",
   "execution_count": 13,
   "id": "3a63ff31-599c-49fb-a17f-07c4d05f686f",
   "metadata": {},
   "outputs": [
    {
     "data": {
      "text/plain": [
       "array([[30000, 16000, 60000],\n",
       "       [ 5000,  4000, 18000],\n",
       "       [ 2000,  2000,  8400]])"
      ]
     },
     "execution_count": 13,
     "metadata": {},
     "output_type": "execute_result"
    }
   ],
   "source": [
    "price_per_unit * units"
   ]
  },
  {
   "cell_type": "code",
   "execution_count": 15,
   "id": "11eb31d5-44d8-4ada-9961-8790cc0ce94b",
   "metadata": {},
   "outputs": [
    {
     "data": {
      "text/plain": [
       "array([34400, 50000, 64400])"
      ]
     },
     "execution_count": 15,
     "metadata": {},
     "output_type": "execute_result"
    }
   ],
   "source": [
    "np.dot(price_per_unit , units)"
   ]
  },
  {
   "cell_type": "code",
   "execution_count": 22,
   "id": "4fc40396-aebb-4968-a48a-99486b9b60d6",
   "metadata": {},
   "outputs": [
    {
     "data": {
      "text/plain": [
       "array([1900, 2640, 1430])"
      ]
     },
     "execution_count": 22,
     "metadata": {},
     "output_type": "execute_result"
    }
   ],
   "source": [
    "units_sold = np.array([[50,60,25],[10,13,5],[40,70,52]])\n",
    "price_per_unit = np.array([20,30,15])\n",
    "np.dot(price_per_unit,units_sold)"
   ]
  },
  {
   "cell_type": "markdown",
   "id": "c0f3c2f3-5e48-4c41-a7b5-e62e9fe8a8f8",
   "metadata": {},
   "source": [
    "**TO REMEMBER THAT AxB != BxA IN MATRIX MULTIPLICTION**"
   ]
  },
  {
   "cell_type": "markdown",
   "id": "a35c0ce2-6583-4a4e-ba33-110f52831c7e",
   "metadata": {},
   "source": [
    "## CONVERTING USD TO INR"
   ]
  },
  {
   "cell_type": "code",
   "execution_count": 18,
   "id": "3e7d5af4-b2e5-40b8-b9e6-8a4d9d57fc4c",
   "metadata": {},
   "outputs": [
    {
     "data": {
      "text/plain": [
       "array([[17238.  , 18961.8 , 21547.5 ],\n",
       "       [ 5860.92,  6809.01,  9049.95],\n",
       "       [ 9480.9 , 12066.6 , 15514.2 ],\n",
       "       [ 6895.2 ,  7326.15,  7757.1 ]])"
      ]
     },
     "execution_count": 18,
     "metadata": {},
     "output_type": "execute_result"
    }
   ],
   "source": [
    "revenues_usd = np.array([[200,220,250],[68,79,105],[110,140,180],[80,85,90]])\n",
    "revenues_inr = revenues_usd * 86.19\n",
    "revenues_inr"
   ]
  }
 ],
 "metadata": {
  "kernelspec": {
   "display_name": "Python 3 (ipykernel)",
   "language": "python",
   "name": "python3"
  },
  "language_info": {
   "codemirror_mode": {
    "name": "ipython",
    "version": 3
   },
   "file_extension": ".py",
   "mimetype": "text/x-python",
   "name": "python",
   "nbconvert_exporter": "python",
   "pygments_lexer": "ipython3",
   "version": "3.12.4"
  }
 },
 "nbformat": 4,
 "nbformat_minor": 5
}
