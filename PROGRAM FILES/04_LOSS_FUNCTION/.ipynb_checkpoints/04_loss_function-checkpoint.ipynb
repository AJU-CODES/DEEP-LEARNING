{
 "cells": [
  {
   "cell_type": "code",
   "execution_count": 1,
   "id": "46ff8fbb-ac06-4708-ab4b-26264d44dff6",
   "metadata": {},
   "outputs": [],
   "source": [
    "import numpy as np"
   ]
  },
  {
   "cell_type": "markdown",
   "id": "06549548-6b0a-4db3-a1c4-05bee1b86917",
   "metadata": {},
   "source": [
    "## MEAN ABSOLUTE ERROR"
   ]
  },
  {
   "cell_type": "code",
   "execution_count": 3,
   "id": "bcd6d4dc-b80a-4bad-add0-6b593812e726",
   "metadata": {},
   "outputs": [],
   "source": [
    "y_pred = np.array([1,1,0,0,1])\n",
    "y_true = np.array([0.30,0.7,1,0,0.5])"
   ]
  },
  {
   "cell_type": "code",
   "execution_count": 4,
   "id": "48ceb7f1-076b-4402-8bf9-af0fd0ac30f6",
   "metadata": {},
   "outputs": [],
   "source": [
    "def mae(y_pred,y_true):\n",
    "    total_score = 0\n",
    "    for yp,yt in zip(y_pred,y_true):\n",
    "        total_score += abs(yp-yt)\n",
    "    mae = total_score / len(y_true)\n",
    "    print('total_err:',total_score)\n",
    "    print(mae)"
   ]
  },
  {
   "cell_type": "code",
   "execution_count": 5,
   "id": "e0a84914-42bb-438e-bad9-6b40eef38036",
   "metadata": {},
   "outputs": [
    {
     "name": "stdout",
     "output_type": "stream",
     "text": [
      "total_err: 2.5\n",
      "0.5\n"
     ]
    }
   ],
   "source": [
    "mae(y_pred,y_true)"
   ]
  },
  {
   "cell_type": "code",
   "execution_count": 6,
   "id": "e6652cb1-6ae1-411c-a120-528d1762952f",
   "metadata": {},
   "outputs": [
    {
     "data": {
      "text/plain": [
       "0.5"
      ]
     },
     "execution_count": 6,
     "metadata": {},
     "output_type": "execute_result"
    }
   ],
   "source": [
    "np.mean(np.abs(y_pred-y_true))"
   ]
  },
  {
   "cell_type": "markdown",
   "id": "78822212-a453-4e92-8ed5-a7aeee0be5b7",
   "metadata": {},
   "source": [
    "## LOG LOSS"
   ]
  },
  {
   "cell_type": "markdown",
   "id": "3a8aa134-30ad-410a-92bb-9fde72dc1132",
   "metadata": {},
   "source": [
    "IN LOG LOSS FORMULA - 1/N SUM((Y_TRUE * LOG(Y_PRED)) + (1 - Y_TRUE) * LOG(1 - Y_PRED))  \n",
    "THE LOG(0) IS UNDEFINED SO WE NEED TO ADJUST IT"
   ]
  },
  {
   "cell_type": "code",
   "execution_count": 9,
   "id": "a265573d-e3f1-466c-940c-4d70868cc576",
   "metadata": {},
   "outputs": [
    {
     "name": "stderr",
     "output_type": "stream",
     "text": [
      "C:\\Users\\AJU\\AppData\\Local\\Temp\\ipykernel_9244\\2933082444.py:1: RuntimeWarning: divide by zero encountered in log\n",
      "  np.log(0)\n"
     ]
    },
    {
     "data": {
      "text/plain": [
       "-inf"
      ]
     },
     "execution_count": 9,
     "metadata": {},
     "output_type": "execute_result"
    }
   ],
   "source": [
    "np.log(0)"
   ]
  },
  {
   "cell_type": "code",
   "execution_count": 10,
   "id": "9a15fdde-453c-4e32-a067-f4b527665b6c",
   "metadata": {},
   "outputs": [
    {
     "data": {
      "text/plain": [
       "-16.11809565095832"
      ]
     },
     "execution_count": 10,
     "metadata": {},
     "output_type": "execute_result"
    }
   ],
   "source": [
    "np.log(0.0000001)"
   ]
  },
  {
   "cell_type": "code",
   "execution_count": 11,
   "id": "d260f66b-3211-496a-891e-51fcb9d54fc1",
   "metadata": {},
   "outputs": [
    {
     "data": {
      "text/plain": [
       "0.0"
      ]
     },
     "execution_count": 11,
     "metadata": {},
     "output_type": "execute_result"
    }
   ],
   "source": [
    "np.log(1)"
   ]
  },
  {
   "cell_type": "code",
   "execution_count": 12,
   "id": "e5285d67-87cd-4163-a527-4e304dfa69ad",
   "metadata": {},
   "outputs": [],
   "source": [
    "epsilon = 1e-15"
   ]
  },
  {
   "cell_type": "code",
   "execution_count": 13,
   "id": "459d6816-92a4-4ed3-ab81-9cc8a1bc199a",
   "metadata": {},
   "outputs": [
    {
     "data": {
      "text/plain": [
       "array([1, 1, 0, 0, 1])"
      ]
     },
     "execution_count": 13,
     "metadata": {},
     "output_type": "execute_result"
    }
   ],
   "source": [
    "y_pred"
   ]
  },
  {
   "cell_type": "markdown",
   "id": "2d4ddf3f-27e3-4381-bcb3-ea5c9b33911c",
   "metadata": {},
   "source": [
    "MAKING 1 TO CLOSER VALUE TO 1 BUT NOT 1 AND 0 AS WELL"
   ]
  },
  {
   "cell_type": "code",
   "execution_count": 38,
   "id": "9a718107-db9e-435f-aeae-ce38daf0b2d6",
   "metadata": {},
   "outputs": [
    {
     "data": {
      "text/plain": [
       "[1, 1, 1e-15, 1e-15, 1]"
      ]
     },
     "execution_count": 38,
     "metadata": {},
     "output_type": "execute_result"
    }
   ],
   "source": [
    "y_pred_now = [max(i, epsilon) for i in y_pred]\n",
    "y_pred_now"
   ]
  },
  {
   "cell_type": "code",
   "execution_count": 42,
   "id": "00f4c943-1384-47da-b377-d1c55f1b0959",
   "metadata": {},
   "outputs": [
    {
     "data": {
      "text/plain": [
       "[0.999999999999999, 0.999999999999999, 1e-15, 1e-15, 0.999999999999999]"
      ]
     },
     "execution_count": 42,
     "metadata": {},
     "output_type": "execute_result"
    }
   ],
   "source": [
    "y_pred_new = [min(i,1-epsilon) for i in y_pred_now]\n",
    "y_pred_new"
   ]
  },
  {
   "cell_type": "code",
   "execution_count": 44,
   "id": "19f22016-e164-4786-8520-b3d64fef423f",
   "metadata": {},
   "outputs": [
    {
     "data": {
      "text/plain": [
       "array([-9.99200722e-16, -9.99200722e-16, -3.45387764e+01, -3.45387764e+01,\n",
       "       -9.99200722e-16])"
      ]
     },
     "execution_count": 44,
     "metadata": {},
     "output_type": "execute_result"
    }
   ],
   "source": [
    "y_pred_new = np.array(y_pred_new)\n",
    "np.log(y_pred_new)"
   ]
  },
  {
   "cell_type": "code",
   "execution_count": 46,
   "id": "d6ceffb3-fb3e-4fdc-a1db-92af144f0ee1",
   "metadata": {},
   "outputs": [
    {
     "name": "stderr",
     "output_type": "stream",
     "text": [
      "C:\\Users\\AJU\\AppData\\Local\\Temp\\ipykernel_9244\\4184140517.py:1: RuntimeWarning: divide by zero encountered in log\n",
      "  np.log(y_pred)\n"
     ]
    },
    {
     "data": {
      "text/plain": [
       "array([  0.,   0., -inf, -inf,   0.])"
      ]
     },
     "execution_count": 46,
     "metadata": {},
     "output_type": "execute_result"
    }
   ],
   "source": [
    "np.log(y_pred)"
   ]
  },
  {
   "cell_type": "code",
   "execution_count": 48,
   "id": "463b6b93-99dd-44e0-8ed2-9dab20f30cc1",
   "metadata": {},
   "outputs": [
    {
     "data": {
      "text/plain": [
       "array([0.3, 0.7, 1. , 0. , 0.5])"
      ]
     },
     "execution_count": 48,
     "metadata": {},
     "output_type": "execute_result"
    }
   ],
   "source": [
    "y_true"
   ]
  },
  {
   "cell_type": "code",
   "execution_count": 50,
   "id": "66b2ba66-c550-49b3-bac5-282eae242027",
   "metadata": {},
   "outputs": [
    {
     "data": {
      "text/plain": [
       "17.2696280766844"
      ]
     },
     "execution_count": 50,
     "metadata": {},
     "output_type": "execute_result"
    }
   ],
   "source": [
    "-np.mean(y_true*np.log(y_pred_new)+(1-y_true)*np.log(1-y_pred_new))"
   ]
  },
  {
   "cell_type": "code",
   "execution_count": 54,
   "id": "e2b0a4c2-92f9-4083-a5a1-a2dca6d3565e",
   "metadata": {},
   "outputs": [],
   "source": [
    "def log_loss(y_true,y_pred):\n",
    "    epsilon = 1e-15\n",
    "    y_pred_new = [max(i,epsilon) for i in y_pred]\n",
    "    y_pred_new = [min(i,1-epsilon) for i in y_pred_new]\n",
    "    y_pred_new = np.array(y_pred_new)\n",
    "    return -np.mean(y_true*np.log(y_pred_new)+(1 - y_true)*np.log(1-y_pred_new))\n"
   ]
  },
  {
   "cell_type": "code",
   "execution_count": 56,
   "id": "3b590631-d182-44a1-8550-5b0dff71f42d",
   "metadata": {},
   "outputs": [
    {
     "data": {
      "text/plain": [
       "17.2696280766844"
      ]
     },
     "execution_count": 56,
     "metadata": {},
     "output_type": "execute_result"
    }
   ],
   "source": [
    "log_loss(y_true,y_pred)"
   ]
  },
  {
   "cell_type": "markdown",
   "id": "4320ca96-dd37-456b-a00d-de9198c46978",
   "metadata": {},
   "source": [
    "## MEAN SQUARED ERROR"
   ]
  },
  {
   "cell_type": "code",
   "execution_count": 75,
   "id": "aedcdfe7-2d61-4c17-8a18-9606aca0106f",
   "metadata": {},
   "outputs": [
    {
     "data": {
      "text/plain": [
       "0.366"
      ]
     },
     "execution_count": 75,
     "metadata": {},
     "output_type": "execute_result"
    }
   ],
   "source": [
    "np.mean(np.square(y_pred - y_true))"
   ]
  },
  {
   "cell_type": "code",
   "execution_count": 71,
   "id": "3b7ca5eb-f53b-4646-831d-8e74f398259c",
   "metadata": {},
   "outputs": [],
   "source": [
    "def mse(y_pred,y_true):\n",
    "    total_err = 0\n",
    "    for yt,yp in zip(y_pred,y_true):\n",
    "        total_err += (yt - yp)**2\n",
    "    mse = total_err/len(y_true)\n",
    "    print(mse)"
   ]
  },
  {
   "cell_type": "code",
   "execution_count": 73,
   "id": "6f28cf9f-84ce-40b0-a5a8-907507bfa8ea",
   "metadata": {},
   "outputs": [
    {
     "name": "stdout",
     "output_type": "stream",
     "text": [
      "0.366\n"
     ]
    }
   ],
   "source": [
    "mse(y_pred,y_true)"
   ]
  },
  {
   "cell_type": "code",
   "execution_count": null,
   "id": "300fa212-ec59-4166-9d2c-ebe8a5694dd7",
   "metadata": {},
   "outputs": [],
   "source": []
  }
 ],
 "metadata": {
  "kernelspec": {
   "display_name": "Python 3 (ipykernel)",
   "language": "python",
   "name": "python3"
  },
  "language_info": {
   "codemirror_mode": {
    "name": "ipython",
    "version": 3
   },
   "file_extension": ".py",
   "mimetype": "text/x-python",
   "name": "python",
   "nbconvert_exporter": "python",
   "pygments_lexer": "ipython3",
   "version": "3.12.4"
  }
 },
 "nbformat": 4,
 "nbformat_minor": 5
}
